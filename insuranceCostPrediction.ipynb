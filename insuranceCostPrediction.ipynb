{
 "cells": [
  {
   "cell_type": "code",
   "execution_count": 1,
   "metadata": {},
   "outputs": [],
   "source": [
    "import pandas as pd\n",
    "import numpy as np\n",
    "import matplotlib.pyplot as plt"
   ]
  },
  {
   "cell_type": "markdown",
   "metadata": {},
   "source": [
    "### Load the Data"
   ]
  },
  {
   "cell_type": "code",
   "execution_count": 2,
   "metadata": {},
   "outputs": [],
   "source": [
    "data = pd.read_csv('./insurance.csv')"
   ]
  },
  {
   "cell_type": "code",
   "execution_count": 3,
   "metadata": {},
   "outputs": [],
   "source": [
    "# list of all the features\n",
    "features = [[1] * data.shape[0]]\n",
    "# output variable - insurance charges\n",
    "y = data['charges'].values\n",
    "for column in data: \n",
    "    # print(column, ' -> ', end = '')\n",
    "    # print(type(data[column].values))\n",
    "    if column != 'charges' : \n",
    "        features.append(list(data[column].values))\n",
    "\n",
    "features = np.array(features)\n",
    "features = features.transpose()\n",
    "m = len(features)\n",
    "n = len(features[0])"
   ]
  },
  {
   "cell_type": "markdown",
   "metadata": {},
   "source": [
    "### Normalisation"
   ]
  },
  {
   "cell_type": "code",
   "execution_count": 4,
   "metadata": {},
   "outputs": [],
   "source": [
    "for i in range(1, len(features)) :\n",
    "    u = features[i].mean()\n",
    "    std = features[i].std()\n",
    "    features[i] = (features[i] - u)/std;"
   ]
  },
  {
   "cell_type": "code",
   "execution_count": 5,
   "metadata": {},
   "outputs": [],
   "source": [
    "def hypothesis(xi, theta) :\n",
    "    hx = 0\n",
    "    for j in range(len(xi)) :\n",
    "        hx += xi[j] * theta[j]\n",
    "    return hx;\n",
    "\n",
    "def gradient(features, y, theta) :\n",
    "    grad = np.zeros((m,))\n",
    "    for j in range(n) :\n",
    "        for i in range(m) :\n",
    "            hx = hypothesis(features[i], theta)\n",
    "            grad[j] += (hx - y[i])*features[i][j]\n",
    "    \n",
    "    return grad/m\n",
    "\n",
    "\n",
    "def cost(features, y, theta):\n",
    "    cost = float(0.0)\n",
    "    for i in range(m):\n",
    "        hx = hypothesis(features[i], theta)\n",
    "        cost += (hx - y[i])**2\n",
    "    return cost\n",
    "\n",
    "def gradientDescent(features, y, steps = 1000, alpha = 0.03) :\n",
    "    theta = np.zeros((n,))\n",
    "    errorList = []\n",
    "\n",
    "    for i in range(steps) :\n",
    "        grad = gradient(features, y, theta)\n",
    "        e = cost(features, y, theta)\n",
    "        errorList.append(e)\n",
    "        \n",
    "        for j in range(n) :\n",
    "            theta[j] = theta[j] - alpha*grad[j]\n",
    "        \n",
    "    return theta,errorList\n",
    "\n"
   ]
  },
  {
   "cell_type": "code",
   "execution_count": 6,
   "metadata": {},
   "outputs": [],
   "source": [
    "theta,errorList = gradientDescent(features, y)"
   ]
  },
  {
   "cell_type": "code",
   "execution_count": 7,
   "metadata": {},
   "outputs": [
    {
     "data": {
      "image/png": "[encoded data removed]",
      "text/plain": [
       "<Figure size 432x288 with 1 Axes>"
      ]
     },
     "metadata": {
      "needs_background": "light"
     },
     "output_type": "display_data"
    }
   ],
   "source": [
    "plt.plot(errorList)\n",
    "plt.show()"
   ]
  }
 ],
 "metadata": {
  "interpreter": {
   "hash": "949777d72b0d2535278d3dc13498b2535136f6dfe0678499012e853ee9abcab1"
  },
  "kernelspec": {
   "display_name": "Python 3.9.7 64-bit",
   "language": "python",
   "name": "python3"
  },
  "language_info": {
   "codemirror_mode": {
    "name": "ipython",
    "version": 3
   },
   "file_extension": ".py",
   "mimetype": "text/x-python",
   "name": "python",
   "nbconvert_exporter": "python",
   "pygments_lexer": "ipython3",
   "version": "3.9.7"
  },
  "orig_nbformat": 4
 },
 "nbformat": 4,
 "nbformat_minor": 2
}
